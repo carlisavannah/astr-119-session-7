{
 "cells": [
  {
   "cell_type": "code",
   "execution_count": 1,
   "metadata": {},
   "outputs": [],
   "source": [
    "%matplotlib inline\n",
    "import numpy as np\n",
    "import matplotlib.pyplot as plt"
   ]
  },
  {
   "cell_type": "markdown",
   "metadata": {},
   "source": [
    "## Define a function for which we'd like to find the roots"
   ]
  },
  {
   "cell_type": "code",
   "execution_count": 2,
   "metadata": {},
   "outputs": [],
   "source": [
    "def function_for_roots(x):\n",
    "    a = 1.01\n",
    "    b = -3.04\n",
    "    c = 2.07\n",
    "    return a*x**2 + b*x + c  #get the roots of ax^2 + bx + c"
   ]
  },
  {
   "cell_type": "markdown",
   "metadata": {},
   "source": [
    "## We need a function to check whether our initial values are valid"
   ]
  },
  {
   "cell_type": "code",
   "execution_count": 3,
   "metadata": {},
   "outputs": [],
   "source": [
    "def check_initial_values(f, x_min, x_max, tol):\n",
    "    \n",
    "    #check our initial guesses\n",
    "    y_min = f(x_min)\n",
    "    y_max = f(x_max)\n",
    "    \n",
    "    #check that x_min and x_max contain a zero crossing\n",
    "    if(y_min*y_max>=0.0):\n",
    "        print(\"No zero crossing found in the range = \",x_min,x_max)\n",
    "        s = \"f(%f) = %f, f(%f) = %f\" % (x_min,y_min,x_max,y_max)\n",
    "        print(s)\n",
    "        return 0\n",
    "    \n",
    "    #if x_min is a root, then return flag == 1\n",
    "    if(np.fabs(y_max)<tol):\n",
    "        return 1\n",
    "    \n",
    "    #if m_max is a root, then return flag == 2\n",
    "    if(np.fabs(y_max)<tol):\n",
    "        return 2\n",
    "    \n",
    "    #if we reach this point, the bracket is valid\n",
    "    #and we will return 3\n",
    "    return 3"
   ]
  },
  {
   "cell_type": "markdown",
   "metadata": {},
   "source": [
    "## Now we will define the main work function that actually performs the iterative search."
   ]
  },
  {
   "cell_type": "code",
   "execution_count": null,
   "metadata": {},
   "outputs": [],
   "source": [
    "def bisection_root_finding(f, x_min_start, x_max_start, tol):\n",
    "    \n",
    "    #this function uses bisection search to find a root\n",
    "    \n",
    "    x_min = x_min_start      #minimum x in bracket\n",
    "    x_max = x_max_start      #maximum x in bracket\n",
    "    x_mid = 0.0              #mid point\n",
    "    \n",
    "    y_min = f(x_min)    #function value at x_min"
   ]
  }
 ],
 "metadata": {
  "kernelspec": {
   "display_name": "Python 3",
   "language": "python",
   "name": "python3"
  },
  "language_info": {
   "codemirror_mode": {
    "name": "ipython",
    "version": 3
   },
   "file_extension": ".py",
   "mimetype": "text/x-python",
   "name": "python",
   "nbconvert_exporter": "python",
   "pygments_lexer": "ipython3",
   "version": "3.6.5"
  }
 },
 "nbformat": 4,
 "nbformat_minor": 2
}
